{
 "cells": [
  {
   "cell_type": "markdown",
   "metadata": {},
   "source": [
    "### 2014-01 2do Recuperatorio\n",
    "Se tiene un archivo distribuido con información de una red social en la cual cada registro tiene información sobre un usuario y una lista de sus amigos y sus enemigos (user_id,vector_ids_amigos,vector_ids_enemigos). Queremos encontrar al usuario que figura en mas listas de enemigos, para designarlo el enemigo público número uno.\n",
    "(8 pts por programar lo pedido) (5 pts por programar la agregación necesaria) (2 pts indique cuantos procesos reducers usaría)"
   ]
  },
  {
   "cell_type": "code",
   "execution_count": 3,
   "metadata": {
    "collapsed": true
   },
   "outputs": [],
   "source": [
    "# (user_id,vector_ids_amigos,vector_ids_enemigos)\n",
    "social_net = [\n",
    "    (1, [2, 3], [4, 5, 6]),\n",
    "    (2, [3, 4], [5, 6]),\n",
    "    (3, [2, 1], [7, 6]),\n",
    "    (4, [6, 7, 1], [6]),\n",
    "    (5, [1, 2, 3, 4], [7]),\n",
    "    (6, [7], [1, 2, 3, 4]),\n",
    "    (7, [6], [1, 5, 4, 6])\n",
    "]"
   ]
  },
  {
   "cell_type": "code",
   "execution_count": 14,
   "metadata": {
    "collapsed": false
   },
   "outputs": [
    {
     "data": {
      "text/plain": [
       "6"
      ]
     },
     "execution_count": 14,
     "metadata": {},
     "output_type": "execute_result"
    }
   ],
   "source": [
    "# Usuario que figura en mas listas de enemigos\n",
    "socialRDD = sc.parallelize(social_net)\n",
    "socialRDD.flatMap(lambda x: x[2])\\\n",
    "         .map(lambda x: (x, 1))\\\n",
    "         .reduceByKey(lambda a, b: a + b)\\\n",
    "         .reduce(lambda a, b: a if a[1] > b[1] else b)[0]"
   ]
  },
  {
   "cell_type": "markdown",
   "metadata": {},
   "source": [
    "---\n",
    "### 2016-1 2do Recuperatorio\n",
    "Una red social almacena el contenido de los chats entre sus usuarios en un RDD que tiene registros con el siguiente formato: (chat_id,user_id, nickname, text). Queremos saber cuál es el usuario (user_id) que mas preguntas hace en sus chats, contabilizamos una pregunta por cada caracter “?” que aparezca en el campo text. Programar en Spark un programa que identifique al usuario preguntón. "
   ]
  },
  {
   "cell_type": "code",
   "execution_count": 1,
   "metadata": {
    "collapsed": true
   },
   "outputs": [],
   "source": [
    "# (chat_id,user_id, nickname, text)\n",
    "chats = [\n",
    "    (1, 1, 'damu', 'Qué es esto?'),\n",
    "    (2, 2, 'martin', 'Un chat!'),\n",
    "    (3, 1, 'damu', 'Ahhh! Y de donde salio? Whatsapp?'),\n",
    "    (4, 2, 'martin', 'Sí! Cómo sabias?'),\n",
    "    (5, 1, 'damu', 'Adivine'),\n",
    "    (6, 3, 'luis', 'Hola!')\n",
    "]"
   ]
  },
  {
   "cell_type": "code",
   "execution_count": 5,
   "metadata": {
    "collapsed": false
   },
   "outputs": [
    {
     "data": {
      "text/plain": [
       "1"
      ]
     },
     "execution_count": 5,
     "metadata": {},
     "output_type": "execute_result"
    }
   ],
   "source": [
    "# Usuario mas pregunton\n",
    "chatRDD = sc.parallelize(chats)\n",
    "chatRDD.map(lambda x: (x[1], x[3].count('?')))\\\n",
    "       .reduceByKey(lambda a, b: a + b)\\\n",
    "       .reduce(lambda a, b: a if a[1] > b[1] else b)[0]"
   ]
  }
 ],
 "metadata": {
  "kernelspec": {
   "display_name": "pySpark",
   "language": "python",
   "name": "pyspark"
  },
  "language_info": {
   "codemirror_mode": {
    "name": "ipython",
    "version": 2
   },
   "file_extension": ".py",
   "mimetype": "text/x-python",
   "name": "python",
   "nbconvert_exporter": "python",
   "pygments_lexer": "ipython2",
   "version": "2.7.12"
  }
 },
 "nbformat": 4,
 "nbformat_minor": 1
}
