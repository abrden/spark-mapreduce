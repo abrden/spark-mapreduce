{
 "cells": [
  {
   "cell_type": "markdown",
   "metadata": {},
   "source": [
    "### Simil 2015-1 1er Parcial\n",
    "El rdd amigos contiene informacion sobre las amistades entre usuarios en una red social. Cada relacion de amistad esta representada por dos registros. Por ejemplo si los usuarios A y B son amigos, el archivo contiene los registros (A,B) y (B,A). Se pide realizar un programa en PySpark que, utilizando el rdd, obtenga cual es el usuario con mayor cantidad de amigos. "
   ]
  },
  {
   "cell_type": "code",
   "execution_count": 8,
   "metadata": {
    "collapsed": true
   },
   "outputs": [],
   "source": [
    "friends = [\n",
    "    ('Mili', 'Agus'),\n",
    "    ('Agus', 'Mili'),\n",
    "    ('Mati', 'Agus'),\n",
    "    ('Agus', 'Mati'),\n",
    "    ('Mili', 'Salo'),\n",
    "    ('Salo', 'Mili'),\n",
    "    ('Mili', 'Bi'),\n",
    "    ('Bi', 'Mili')\n",
    "]"
   ]
  },
  {
   "cell_type": "code",
   "execution_count": 17,
   "metadata": {
    "collapsed": false
   },
   "outputs": [
    {
     "data": {
      "text/plain": [
       "('Mili', 3)"
      ]
     },
     "execution_count": 17,
     "metadata": {},
     "output_type": "execute_result"
    }
   ],
   "source": [
    "friendsRDD = sc.parallelize(friends)\n",
    "friendsRDD.map(lambda x: (x[0], 1))\\\n",
    "          .reduceByKey(lambda a, b: a + b)\\\n",
    "          .reduce(lambda a, b: a if a[1] > b[1] else b)"
   ]
  }
 ],
 "metadata": {
  "kernelspec": {
   "display_name": "pySpark",
   "language": "python",
   "name": "pyspark"
  },
  "language_info": {
   "codemirror_mode": {
    "name": "ipython",
    "version": 2
   },
   "file_extension": ".py",
   "mimetype": "text/x-python",
   "name": "python",
   "nbconvert_exporter": "python",
   "pygments_lexer": "ipython2",
   "version": "2.7.12"
  }
 },
 "nbformat": 4,
 "nbformat_minor": 1
}
