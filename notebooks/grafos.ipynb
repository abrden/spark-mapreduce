{
 "cells": [
  {
   "cell_type": "markdown",
   "metadata": {},
   "source": [
    "### Simil 2015-1 1er Parcial\n",
    "El rdd amigos contiene informacion sobre las amistades entre usuarios en una red social. Cada relacion de amistad esta representada por dos registros. Por ejemplo si los usuarios A y B son amigos, el archivo contiene los registros (A,B) y (B,A). Se pide realizar un programa en PySpark que, utilizando el rdd, obtenga cual es el usuario con mayor cantidad de amigos. "
   ]
  },
  {
   "cell_type": "code",
   "execution_count": 10,
   "metadata": {
    "collapsed": true
   },
   "outputs": [],
   "source": [
    "friends = [\n",
    "    ('Mili', 'Agus'),\n",
    "    ('Agus', 'Mili'),\n",
    "    ('Mati', 'Agus'),\n",
    "    ('Agus', 'Mati'),\n",
    "    ('Mili', 'Salo'),\n",
    "    ('Salo', 'Mili'),\n",
    "    ('Mili', 'Bi'),\n",
    "    ('Bi', 'Mili')\n",
    "]"
   ]
  },
  {
   "cell_type": "code",
   "execution_count": 11,
   "metadata": {
    "collapsed": false
   },
   "outputs": [
    {
     "data": {
      "text/plain": [
       "('Mili', 3)"
      ]
     },
     "execution_count": 11,
     "metadata": {},
     "output_type": "execute_result"
    }
   ],
   "source": [
    "friendsRDD = sc.parallelize(friends)\n",
    "friendsRDD.map(lambda x: (x[0], 1))\\\n",
    "          .reduceByKey(lambda a, b: a + b)\\\n",
    "          .reduce(lambda a, b: a if a[1] > b[1] else b)"
   ]
  },
  {
   "cell_type": "markdown",
   "metadata": {},
   "source": [
    "---\n",
    "### Simil 2015-1 2do Recuperatorio\n",
    "Amistades contiene información sobre las relaciones entre usuarios en una red social. Cada registro indica un vinculo entre dos usuarios. Por ejemplo si el usuario A tiene una relación con el B, el archivo contendrá un registro (ID_A,ID_B).\n",
    "Esta relacion podria ser correspondida o no. De serlo, el archivo contendrá también un registro (ID_B,ID_A).\n",
    "Obtener, para cada usuario, una lista de ids para sus relaciones no correspondidas."
   ]
  },
  {
   "cell_type": "code",
   "execution_count": 1,
   "metadata": {
    "collapsed": true
   },
   "outputs": [],
   "source": [
    "relationships = [\n",
    "    (1,2),\n",
    "    (2,1),\n",
    "    (1,3),\n",
    "    (1,4),\n",
    "    (1,5)\n",
    "]"
   ]
  },
  {
   "cell_type": "code",
   "execution_count": 12,
   "metadata": {
    "collapsed": false
   },
   "outputs": [
    {
     "data": {
      "text/plain": [
       "[(1, [2, 3, 4, 5]), (2, [1])]"
      ]
     },
     "execution_count": 12,
     "metadata": {},
     "output_type": "execute_result"
    }
   ],
   "source": [
    "# Lista de amistades para cada id\n",
    "relationshipsRDD = sc.parallelize(relationships)\n",
    "relationshipsRDD.groupByKey().mapValues(list).collect()"
   ]
  },
  {
   "cell_type": "code",
   "execution_count": 16,
   "metadata": {
    "collapsed": false
   },
   "outputs": [],
   "source": [
    "# Lista de relaciones no correspondidas ..."
   ]
  }
 ],
 "metadata": {
  "kernelspec": {
   "display_name": "pySpark",
   "language": "python",
   "name": "pyspark"
  },
  "language_info": {
   "codemirror_mode": {
    "name": "ipython",
    "version": 2
   },
   "file_extension": ".py",
   "mimetype": "text/x-python",
   "name": "python",
   "nbconvert_exporter": "python",
   "pygments_lexer": "ipython2",
   "version": "2.7.6"
  }
 },
 "nbformat": 4,
 "nbformat_minor": 1
}
