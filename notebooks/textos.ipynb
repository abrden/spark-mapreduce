{
 "cells": [
  {
   "cell_type": "markdown",
   "metadata": {},
   "source": [
    "### 2015-1 2do Recuperatorio\n",
    "Tenemos una colección de documentos (textos) almacenados en un cluster. Se quiere establecer un ranking de los patrones mas frecuentes para la aparición de letras en las palabras. Por ejemplo “sister”, “ejects” , “ninety” y “amazon” responden al patrón “abacde”.\n",
    "Programar en map-reduce un programa que genere como resultado un listado de tipo (patron,frecuencia) indicando cuántas veces aparece cada patrón en la colección de documentos. Usar combiners como método de agregación. "
   ]
  },
  {
   "cell_type": "code",
   "execution_count": 2,
   "metadata": {
    "collapsed": false
   },
   "outputs": [
    {
     "data": {
      "text/plain": [
       "[u'Lorem ascent ipsum dolor sit amet, autem melius ea pri, pro malis theophrastus ut, in duo vide vocibus instructior. Duo denique torquatos dissentiunt ei, cu reprimique interesset mei. Duo nulla paulo ea. Ex commodo convenire gubergren mea, verterem lobortis ut mea. Qui debet ocurreret hendrerit ea, iracundia rationibus cotidieque et sea. recontrarepetida recontrarepetida recontrarepetida recontrarepetida',\n",
       " u'Ius secant postmaster nibh utinam ut. Vel stamp store mollis integre labores an. Qualisque incorrupte mea ut, labitur sententiae theophrastus est ea. Usu in alterum rationibus, vix dico prodesset ex, suas offendit postulant  recontrarepetida recontrarepetida recontrarepetida ne eum. Has causae corrumpit te.']"
      ]
     },
     "execution_count": 2,
     "metadata": {},
     "output_type": "execute_result"
    }
   ],
   "source": [
    "textsRDD = sc.textFile('data/texts.txt')\n",
    "textsRDD.take(2)"
   ]
  },
  {
   "cell_type": "code",
   "execution_count": null,
   "metadata": {
    "collapsed": true
   },
   "outputs": [],
   "source": [
    "def pattern(word):\n",
    "    #TODO"
   ]
  },
  {
   "cell_type": "code",
   "execution_count": null,
   "metadata": {
    "collapsed": true
   },
   "outputs": [],
   "source": [
    "textsRDD.flatMap(lambda x: x.split())\\\n",
    "        .map(lambda x: (pattern(x), 1))\\\n",
    "        .reduceByKey(lambda a, b: a + b)\\\n",
    "        .takeOrdered(10, lambda x: -x[1])"
   ]
  },
  {
   "cell_type": "markdown",
   "metadata": {},
   "source": [
    "---\n",
    "### 2015-1 1er Recuperatorio\n",
    "Se tiene una colección de documentos (textos) y se quiere calcular el promedio de la cantidad de caracteres que tienen las frases de 2,3 y 4 palabras en toda la colección. Programar la solución a este problema usando Map-Reduce usando combiners como método de agregación. "
   ]
  },
  {
   "cell_type": "code",
   "execution_count": 3,
   "metadata": {
    "collapsed": false
   },
   "outputs": [
    {
     "data": {
      "text/plain": [
       "[u'Lorem ascent ipsum dolor sit amet, autem melius ea pri, pro malis theophrastus ut, in duo vide vocibus instructior. Duo denique torquatos dissentiunt ei, cu reprimique interesset mei. Duo nulla paulo ea. Ex commodo convenire gubergren mea, verterem lobortis ut mea. Qui debet ocurreret hendrerit ea, iracundia rationibus cotidieque et sea. recontrarepetida recontrarepetida recontrarepetida recontrarepetida',\n",
       " u'Ius secant postmaster nibh utinam ut. Vel stamp store mollis integre labores an. Qualisque incorrupte mea ut, labitur sententiae theophrastus est ea. Usu in alterum rationibus, vix dico prodesset ex, suas offendit postulant  recontrarepetida recontrarepetida recontrarepetida ne eum. Has causae corrumpit te.']"
      ]
     },
     "execution_count": 3,
     "metadata": {},
     "output_type": "execute_result"
    }
   ],
   "source": [
    "textsRDD.take(2)"
   ]
  },
  {
   "cell_type": "code",
   "execution_count": 18,
   "metadata": {
    "collapsed": false
   },
   "outputs": [
    {
     "name": "stdout",
     "output_type": "stream",
     "text": [
      "['use the', 'the force']\n"
     ]
    }
   ],
   "source": [
    "def kphrases(k, s):\n",
    "    s = s.split()\n",
    "    return [ ' '.join(s[i:i+k]) for i in xrange(len(s) - k + 1) ]\n",
    "\n",
    "s = \"use the force\"\n",
    "print(kphrases(2,s))"
   ]
  },
  {
   "cell_type": "code",
   "execution_count": 24,
   "metadata": {
    "collapsed": false
   },
   "outputs": [
    {
     "data": {
      "text/plain": [
       "[(2, 13), (4, 27), (3, 20)]"
      ]
     },
     "execution_count": 24,
     "metadata": {},
     "output_type": "execute_result"
    }
   ],
   "source": [
    "# Promedio de la cantidad de caracteres que tienen las frases de 2, 3 y 4 palabras\n",
    "# A partir de tuplas (cant_palabras_de_frase, (cant_letras, 1))\n",
    "# Obtiene (cant_palabras_de_frase, promedio de caracteres)\n",
    "textsRDD.flatMap(lambda x: kphrases(2, x) + kphrases(3, x) + kphrases(4, x))\\\n",
    "        .map(lambda x: (len(x.split()), (len(x), 1)))\\\n",
    "        .reduceByKey(lambda a, b: (a[0] + b[0], a[1] + b[1]))\\\n",
    "        .map(lambda x: (x[0], x[1][0]/x[1][1]))\\\n",
    "        .collect()"
   ]
  }
 ],
 "metadata": {
  "kernelspec": {
   "display_name": "pySpark",
   "language": "python",
   "name": "pyspark"
  },
  "language_info": {
   "codemirror_mode": {
    "name": "ipython",
    "version": 2
   },
   "file_extension": ".py",
   "mimetype": "text/x-python",
   "name": "python",
   "nbconvert_exporter": "python",
   "pygments_lexer": "ipython2",
   "version": "2.7.12"
  }
 },
 "nbformat": 4,
 "nbformat_minor": 1
}
